{
 "cells": [
  {
   "cell_type": "markdown",
   "metadata": {},
   "source": [
    "# Creating The Augmented Dataset (Saving it to NPY Files)\n",
    "This script will create the dataset that will contain all images (original and augmented) and save them to an .npy file. This file is the one that will be used in the script that train the classification model."
   ]
  },
  {
   "cell_type": "code",
   "execution_count": 1,
   "metadata": {},
   "outputs": [],
   "source": [
    "# General, System & support\n",
    "from os import listdir\n",
    "from os.path import isfile, join, exists\n",
    "from tqdm import tqdm\n",
    "\n",
    "# Computational\n",
    "import numpy as np\n",
    "import cv2 as cv\n",
    "from matplotlib import pyplot as plt\n",
    "\n",
    "from skimage import filters\n",
    "from skimage import data, exposure, img_as_float"
   ]
  },
  {
   "cell_type": "code",
   "execution_count": 2,
   "metadata": {
    "scrolled": false
   },
   "outputs": [
    {
     "name": "stderr",
     "output_type": "stream",
     "text": [
      "100%|█████████████████████████████████████████████████████████████████████████████████| 26/26 [00:00<00:00, 324.94it/s]"
     ]
    },
    {
     "name": "stdout",
     "output_type": "stream",
     "text": [
      "augmented_data/fish_20\n",
      "['augmented_data/fish_01', 'augmented_data/fish_02', 'augmented_data/fish_03', 'augmented_data/fish_04', 'augmented_data/fish_05', 'augmented_data/fish_06', 'augmented_data/fish_07', 'augmented_data/fish_08', 'augmented_data/fish_09', 'augmented_data/fish_10', 'augmented_data/fish_11', 'augmented_data/fish_12', 'augmented_data/fish_13', 'augmented_data/fish_14', 'augmented_data/fish_15', 'augmented_data/fish_16', 'augmented_data/fish_17', 'augmented_data/fish_18', 'augmented_data/fish_19', 'augmented_data/fish_21', 'augmented_data/fish_22', 'augmented_data/fish_23', 'augmented_data/fish_24', 'augmented_data/fish_25', 'augmented_data/fish_26']\n",
      "['augmented_data/mask_01', 'augmented_data/mask_02', 'augmented_data/mask_03', 'augmented_data/mask_04', 'augmented_data/mask_05', 'augmented_data/mask_06', 'augmented_data/mask_07', 'augmented_data/mask_08', 'augmented_data/mask_09', 'augmented_data/mask_10', 'augmented_data/mask_11', 'augmented_data/mask_12', 'augmented_data/mask_13', 'augmented_data/mask_14', 'augmented_data/mask_15', 'augmented_data/mask_16', 'augmented_data/mask_17', 'augmented_data/mask_18', 'augmented_data/mask_19', 'augmented_data/mask_21', 'augmented_data/mask_22', 'augmented_data/mask_23', 'augmented_data/mask_24', 'augmented_data/mask_25', 'augmented_data/mask_26']\n"
     ]
    },
    {
     "name": "stderr",
     "output_type": "stream",
     "text": [
      "\n"
     ]
    }
   ],
   "source": [
    "# Creating a list of the directories of the images and masks corresponding to the different species\n",
    "\n",
    "data_path = 'augmented_data/'\n",
    "img_folder_name = 'fish_'\n",
    "msk_folder_name = 'mask_'\n",
    "\n",
    "image_folders = []\n",
    "mask_folders = []\n",
    "\n",
    "for i in tqdm(range(26)):\n",
    "\n",
    "    if i < 9:\n",
    "      img_name = data_path + img_folder_name + '0' + str(i+1)\n",
    "      msk_name = data_path + msk_folder_name + '0' + str(i+1)\n",
    "\n",
    "    else:\n",
    "      img_name = data_path + img_folder_name  + str(i+1)\n",
    "      msk_name = data_path + msk_folder_name + str(i+1)\n",
    "\n",
    "    # print(img_name)\n",
    "    # print(msk_name)\n",
    "    \n",
    "    if exists(img_name):\n",
    "        image_folders.append(img_name)\n",
    "        mask_folders.append(msk_name)\n",
    "    else:\n",
    "        print(img_name)\n",
    "\n",
    "print(image_folders)\n",
    "print(mask_folders)"
   ]
  },
  {
   "cell_type": "code",
   "execution_count": 7,
   "metadata": {},
   "outputs": [
    {
     "name": "stdout",
     "output_type": "stream",
     "text": [
      "['data/fish_01', 'data/fish_02', 'data/fish_03', 'data/fish_04', 'data/fish_05', 'data/fish_06', 'data/fish_07', 'data/fish_08', 'data/fish_09', 'data/fish_10', 'data/fish_11', 'data/fish_12', 'data/fish_13', 'data/fish_14', 'data/fish_15', 'data/fish_16', 'data/fish_17', 'data/fish_18', 'data/fish_19', 'data/fish_21', 'data/fish_22', 'data/fish_23', 'data/fish_24', 'data/fish_25', 'data/fish_26']\n",
      "['data/mask_01', 'data/mask_02', 'data/mask_03', 'data/mask_04', 'data/mask_05', 'data/mask_06', 'data/mask_07', 'data/mask_08', 'data/mask_09', 'data/mask_10', 'data/mask_11', 'data/mask_12', 'data/mask_13', 'data/mask_14', 'data/mask_15', 'data/mask_16', 'data/mask_17', 'data/mask_18', 'data/mask_19', 'data/mask_21', 'data/mask_22', 'data/mask_23', 'data/mask_24', 'data/mask_25', 'data/mask_26']\n"
     ]
    }
   ],
   "source": [
    "# Making sure the original data and sugmented data have the same subdirectories and species aligned\n",
    "i = 0 \n",
    "for image_folder in image_folders:\n",
    "    image_folder = image_folder.split('/')[1:]\n",
    "    image_folders[i] = 'data/' + image_folder[0]\n",
    "    i +=1\n",
    "\n",
    "i = 0\n",
    "for mask_folder in mask_folders:\n",
    "    mask_folder = mask_folder.split('/')[1:]\n",
    "    mask_folders[i] = 'data/' + mask_folder[0]\n",
    "    i +=1\n",
    "\n",
    "print(image_folders)\n",
    "print(mask_folders)"
   ]
  },
  {
   "cell_type": "code",
   "execution_count": 8,
   "metadata": {},
   "outputs": [
    {
     "data": {
      "text/plain": [
       "['fish_26']"
      ]
     },
     "execution_count": 8,
     "metadata": {},
     "output_type": "execute_result"
    }
   ],
   "source": [
    "image_folder"
   ]
  },
  {
   "cell_type": "code",
   "execution_count": 9,
   "metadata": {
    "scrolled": true
   },
   "outputs": [
    {
     "name": "stderr",
     "output_type": "stream",
     "text": [
      "100%|████████████████████████████████████████████████████████████████████████████| 422/422 [00:00<00:00, 418142.28it/s]\n",
      "100%|████████████████████████████████████████████████████████████████████████████████████████| 128/128 [00:00<?, ?it/s]\n",
      "100%|███████████████████████████████████████████████████████████████████████████████| 88/88 [00:00<00:00, 88768.34it/s]\n",
      "100%|███████████████████████████████████████████████████████████████████████████████| 72/72 [00:00<00:00, 71953.75it/s]\n",
      "100%|██████████████████████████████████████████████████████████████████████████████████████████| 74/74 [00:00<?, ?it/s]\n",
      "100%|████████████████████████████████████████████████████████████████████████████████████████| 204/204 [00:00<?, ?it/s]\n",
      "100%|██████████████████████████████████████████████████████████████████████████████████████████| 41/41 [00:00<?, ?it/s]\n",
      "100%|███████████████████████████████████████████████████████████████████████████████| 42/42 [00:00<00:00, 41983.02it/s]\n",
      "100%|████████████████████████████████████████████████████████████████████████████████████████████| 2/2 [00:00<?, ?it/s]\n",
      "100%|██████████████████████████████████████████████████████████████████████████████████| 3/3 [00:00<00:00, 2996.64it/s]\n",
      "100%|██████████████████████████████████████████████████████████████████████████████████████████| 15/15 [00:00<?, ?it/s]\n",
      "100%|███████████████████████████████████████████████████████████████████████████████| 24/24 [00:00<00:00, 23973.16it/s]\n",
      "100%|███████████████████████████████████████████████████████████████████████████████| 74/74 [00:00<00:00, 74005.36it/s]\n",
      "100%|██████████████████████████████████████████████████████████████████████████████████| 2/2 [00:00<00:00, 1998.72it/s]\n",
      "100%|██████████████████████████████████████████████████████████████████████████████████| 7/7 [00:00<00:00, 6983.86it/s]\n",
      "100%|████████████████████████████████████████████████████████████████████████████████████████████| 3/3 [00:00<?, ?it/s]\n",
      "100%|████████████████████████████████████████████████████████████████████████████████████████████| 2/2 [00:00<?, ?it/s]\n",
      "100%|████████████████████████████████████████████████████████████████████████████████████████████| 5/5 [00:00<?, ?it/s]\n",
      "100%|██████████████████████████████████████████████████████████████████████████████████| 4/4 [00:00<00:00, 3999.34it/s]\n",
      "100%|████████████████████████████████████████████████████████████████████████████████████████████| 6/6 [00:00<?, ?it/s]\n",
      "100%|██████████████████████████████████████████████████████████████████████████████████████████| 14/14 [00:00<?, ?it/s]\n",
      "100%|████████████████████████████████████████████████████████████████████████████████████████████| 3/3 [00:00<?, ?it/s]\n",
      "100%|███████████████████████████████████████████████████████████████████████████████| 25/25 [00:00<00:00, 24972.04it/s]\n",
      "100%|██████████████████████████████████████████████████████████████████████████████████████████| 31/31 [00:00<?, ?it/s]\n",
      "100%|██████████████████████████████████████████████████████████████████████████████████████████| 12/12 [00:00<?, ?it/s]\n"
     ]
    },
    {
     "data": {
      "text/plain": [
       "1303"
      ]
     },
     "execution_count": 9,
     "metadata": {},
     "output_type": "execute_result"
    }
   ],
   "source": [
    "num = 0\n",
    "# Iterating over the different folders (one for each species) that contain the imges and masks\n",
    "for i in range(len(image_folders)):\n",
    "    \n",
    "    image_file_names = [f for f in listdir(image_folders[i]) if isfile(join(image_folders[i], f))]\n",
    "    mask_file_names = [f for f in listdir(mask_folders[i]) if isfile(join(mask_folders[i], f))]\n",
    "    \n",
    "    for j in tqdm(range(len(image_file_names))):\n",
    "        num+=1\n",
    "\n",
    "num"
   ]
  },
  {
   "cell_type": "code",
   "execution_count": 10,
   "metadata": {
    "scrolled": true
   },
   "outputs": [
    {
     "name": "stderr",
     "output_type": "stream",
     "text": [
      "100%|████████████████████████████████████████████████████████████████████████████████| 422/422 [00:10<00:00, 41.36it/s]\n",
      "100%|████████████████████████████████████████████████████████████████████████████████| 128/128 [00:02<00:00, 44.00it/s]\n",
      "100%|██████████████████████████████████████████████████████████████████████████████████| 88/88 [00:02<00:00, 38.66it/s]\n",
      "100%|██████████████████████████████████████████████████████████████████████████████████| 72/72 [00:01<00:00, 39.41it/s]\n",
      "100%|██████████████████████████████████████████████████████████████████████████████████| 74/74 [00:01<00:00, 44.61it/s]\n",
      "100%|████████████████████████████████████████████████████████████████████████████████| 204/204 [00:04<00:00, 47.17it/s]\n",
      "100%|██████████████████████████████████████████████████████████████████████████████████| 41/41 [00:02<00:00, 17.93it/s]\n",
      "100%|██████████████████████████████████████████████████████████████████████████████████| 42/42 [00:01<00:00, 35.52it/s]\n",
      "100%|████████████████████████████████████████████████████████████████████████████████████| 2/2 [00:00<00:00, 28.24it/s]\n",
      "100%|████████████████████████████████████████████████████████████████████████████████████| 3/3 [00:00<00:00, 30.86it/s]\n",
      "100%|██████████████████████████████████████████████████████████████████████████████████| 15/15 [00:00<00:00, 45.13it/s]\n",
      "100%|██████████████████████████████████████████████████████████████████████████████████| 24/24 [00:00<00:00, 45.92it/s]\n",
      "100%|██████████████████████████████████████████████████████████████████████████████████| 74/74 [00:01<00:00, 43.75it/s]\n",
      "100%|████████████████████████████████████████████████████████████████████████████████████| 2/2 [00:00<00:00, 19.97it/s]\n",
      "100%|████████████████████████████████████████████████████████████████████████████████████| 7/7 [00:00<00:00, 43.93it/s]\n",
      "100%|████████████████████████████████████████████████████████████████████████████████████| 3/3 [00:00<00:00, 46.14it/s]\n",
      "100%|████████████████████████████████████████████████████████████████████████████████████| 2/2 [00:00<00:00, 30.80it/s]\n",
      "100%|████████████████████████████████████████████████████████████████████████████████████| 5/5 [00:00<00:00, 44.35it/s]\n",
      "100%|████████████████████████████████████████████████████████████████████████████████████| 4/4 [00:00<00:00, 40.71it/s]\n",
      "100%|████████████████████████████████████████████████████████████████████████████████████| 6/6 [00:00<00:00, 49.23it/s]\n",
      "100%|██████████████████████████████████████████████████████████████████████████████████| 14/14 [00:00<00:00, 45.51it/s]\n",
      "100%|████████████████████████████████████████████████████████████████████████████████████| 3/3 [00:00<00:00, 37.74it/s]\n",
      "100%|██████████████████████████████████████████████████████████████████████████████████| 25/25 [00:00<00:00, 45.15it/s]\n",
      "100%|██████████████████████████████████████████████████████████████████████████████████| 31/31 [00:00<00:00, 45.80it/s]\n",
      "100%|██████████████████████████████████████████████████████████████████████████████████| 12/12 [00:00<00:00, 58.01it/s]\n"
     ]
    }
   ],
   "source": [
    "# Accessing fish images and masks then saving them to an array called data\n",
    "data = np.zeros((num,100,100,4), dtype = np.float16)\n",
    "species = np.zeros((num,1), dtype = int)\n",
    "\n",
    "# error_vector = np.zeros(24971)\n",
    "num = 0\n",
    "# Iterating over the different folders (one for each species) that contain the imges and masks\n",
    "for i in range(len(image_folders)):\n",
    "    \n",
    "    image_file_names = [f for f in listdir(image_folders[i]) if isfile(join(image_folders[i], f))]\n",
    "    mask_file_names = [f for f in listdir(mask_folders[i]) if isfile(join(mask_folders[i], f))]\n",
    "    \n",
    "    for j in tqdm(range(len(image_file_names))):\n",
    "        \n",
    "        img_file_name = image_folders[i] + \"/\" + image_file_names[j]\n",
    "        mask_file_name = mask_folders[i] + \"/\" + mask_file_names[j]\n",
    "\n",
    "        img = cv.imread(img_file_name)\n",
    "        \n",
    "        mask_org = cv.imread(mask_file_name)\n",
    "        mask_org_gray = cv.cvtColor(mask_org, cv.COLOR_BGR2GRAY)\n",
    "\n",
    "        mask_org_gray_resized = cv.resize(mask_org_gray, (100,100)) / 255.0\n",
    "        img_resized = cv.resize(img, (100,100)) / 255.0\n",
    "        \n",
    "        data[num, :, :, 0:3] = img_resized\n",
    "        data[num, :, :, 3] = mask_org_gray_resized\n",
    "        \n",
    "        species[num,0] = i+1\n",
    "        num +=1\n",
    "        if img.any() == None:\n",
    "            print(\"error\")\n",
    "        \n",
    "        if mask_org.any() == None:\n",
    "            print(\"error\")\n",
    "        "
   ]
  },
  {
   "cell_type": "markdown",
   "metadata": {},
   "source": [
    "# Confirming the number of images per class"
   ]
  },
  {
   "cell_type": "code",
   "execution_count": 11,
   "metadata": {},
   "outputs": [
    {
     "name": "stdout",
     "output_type": "stream",
     "text": [
      "Frequency of unique values of the species:\n",
      "[[  1   2   3   4   5   6   7   8   9  10  11  12  13  14  15  16  17  18\n",
      "   19  20  21  22  23  24  25]\n",
      " [422 128  88  72  74 204  41  42   2   3  15  24  74   2   7   3   2   5\n",
      "    4   6  14   3  25  31  12]]\n"
     ]
    }
   ],
   "source": [
    "unique_elements, counts_elements = np.unique(species, return_counts=True)\n",
    "print(\"Frequency of unique values of the species:\")\n",
    "print(np.asarray((unique_elements, counts_elements)))\n",
    "\n",
    "# np.unique(species_aug)"
   ]
  },
  {
   "cell_type": "markdown",
   "metadata": {},
   "source": [
    "# Saving The images to the npy file"
   ]
  },
  {
   "cell_type": "code",
   "execution_count": 12,
   "metadata": {},
   "outputs": [],
   "source": [
    "np.save('data_nature.npy', data)\n",
    "np.save('species_nature.npy', species)"
   ]
  },
  {
   "cell_type": "code",
   "execution_count": null,
   "metadata": {},
   "outputs": [],
   "source": []
  }
 ],
 "metadata": {
  "kernelspec": {
   "display_name": "Python 3",
   "language": "python",
   "name": "python3"
  },
  "language_info": {
   "codemirror_mode": {
    "name": "ipython",
    "version": 3
   },
   "file_extension": ".py",
   "mimetype": "text/x-python",
   "name": "python",
   "nbconvert_exporter": "python",
   "pygments_lexer": "ipython3",
   "version": "3.7.7"
  },
  "varInspector": {
   "cols": {
    "lenName": 16,
    "lenType": 16,
    "lenVar": 40
   },
   "kernels_config": {
    "python": {
     "delete_cmd_postfix": "",
     "delete_cmd_prefix": "del ",
     "library": "var_list.py",
     "varRefreshCmd": "print(var_dic_list())"
    },
    "r": {
     "delete_cmd_postfix": ") ",
     "delete_cmd_prefix": "rm(",
     "library": "var_list.r",
     "varRefreshCmd": "cat(var_dic_list()) "
    }
   },
   "oldHeight": 264.218818,
   "position": {
    "height": "286.037px",
    "left": "969.5px",
    "right": "20px",
    "top": "50.9602px",
    "width": "702.5px"
   },
   "types_to_exclude": [
    "module",
    "function",
    "builtin_function_or_method",
    "instance",
    "_Feature"
   ],
   "varInspector_section_display": "block",
   "window_display": false
  }
 },
 "nbformat": 4,
 "nbformat_minor": 4
}
