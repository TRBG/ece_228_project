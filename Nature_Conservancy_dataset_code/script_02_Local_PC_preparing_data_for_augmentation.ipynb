{
 "cells": [
  {
   "cell_type": "markdown",
   "metadata": {},
   "source": [
    "# Preparing the dataset for augmentaion\n",
    "\n",
    "This script prepares the Nature Conservatory dataset for the augmentation script.\n",
    "It loads the dataset from .npy file (the one that was created in the script: script_01_GOOGLE_COOLAB_fish_segmentation_MaskRCNN_ResNet_152_v2.ipynb). The script distribute the fish into subfolders in the subdirectory '/data/' that are named fish_01 to fish_26 (not including 20 as the quality of the images are not suitable in this class)"
   ]
  },
  {
   "cell_type": "code",
   "execution_count": null,
   "metadata": {},
   "outputs": [],
   "source": [
    "# import miscellaneous modules\n",
    "import cv2 as cv\n",
    "# import imutils\n",
    "from tqdm import tqdm\n",
    "import matplotlib.pyplot as plt\n",
    "import os\n",
    "import numpy as np\n",
    "import time\n",
    "import glob"
   ]
  },
  {
   "cell_type": "code",
   "execution_count": null,
   "metadata": {},
   "outputs": [],
   "source": [
    "dict_of_classes = {'KLPBS': 1, 'KLPRF': 2, 'CASHP': 3, 'PABON': 4, 'GPRRF': 5, 'OCNWF': 6, 'SNDBS': 7, 'TREFS': 8,\n",
    "                   'YTLRF': 9, 'CAYTL': 10, 'PAMAC': 11, 'OLVRF': 12, 'HNYRF': 13, 'RBRLP': 14, 'GRSRF': 15, 'SRG0': 16,\n",
    "                   'CRBNA': 17, 'YFCKR': 18, 'SCRPN': 19, 'CALZD': 20, 'BRNRF': 21, 'STRRF': 22, 'RSYRF': 23, 'VERRF': 24,\n",
    "                   'CALRF': 25, 'CPRRF': 26}"
   ]
  },
  {
   "cell_type": "code",
   "execution_count": null,
   "metadata": {
    "scrolled": true
   },
   "outputs": [],
   "source": [
    "# loading the images and the masks from the .npy file that was created in the previous script (as well as the classes)\n",
    "fish_and_masks = np.load('fish_mask_and_box.npy')\n",
    "classes = np.load('fish_classes_fish_segmentation.npy', allow_pickle=True)"
   ]
  },
  {
   "cell_type": "code",
   "execution_count": null,
   "metadata": {},
   "outputs": [],
   "source": [
    "# Creating the directories\n",
    "for species in dict_of_classes:\n",
    "    \n",
    "    if species != 'CALZD':\n",
    "    \n",
    "        if dict_of_classes[species] < 10:\n",
    "            path = \"data/fish_\" + \"0\" + str(dict_of_classes[species]) + \"/\"\n",
    "\n",
    "            if not os.path.exists(path):\n",
    "                os.makedirs(path)\n",
    "\n",
    "            path = \"data/mask_\" + \"0\" + str(dict_of_classes[species]) + \"/\"\n",
    "\n",
    "            if not os.path.exists(path):\n",
    "                os.makedirs(path)\n",
    "\n",
    "        else:\n",
    "\n",
    "            path = \"data/fish_\" + str(dict_of_classes[species]) + \"/\"\n",
    "\n",
    "            if not os.path.exists(path):\n",
    "                os.makedirs(path)\n",
    "\n",
    "            path = \"data/mask_\" + str(dict_of_classes[species]) + \"/\"\n",
    "\n",
    "            if not os.path.exists(path):\n",
    "                os.makedirs(path)\n",
    "        "
   ]
  },
  {
   "cell_type": "code",
   "execution_count": null,
   "metadata": {},
   "outputs": [],
   "source": [
    "species"
   ]
  },
  {
   "cell_type": "code",
   "execution_count": null,
   "metadata": {},
   "outputs": [],
   "source": [
    "#Distributing the images to the folders\n",
    "img_number = 1\n",
    "\n",
    "for i in tqdm(range(fish_and_masks.shape[0])):\n",
    "    \n",
    "    class_num = dict_of_classes[classes[i][0]]\n",
    "    \n",
    "    if class_num < 10:\n",
    "        \n",
    "        \n",
    "        path = \"data/fish_\" + \"0\" + str(class_num) + \"/fish_\" + str(img_number).zfill(4) + \".jpg\"\n",
    "        cv.imwrite(path, fish_and_masks[i, :, :, 0:3])\n",
    "        \n",
    "        \n",
    "        path = \"data/mask_\" + \"0\" + str(class_num) + \"/fish_\" + str(img_number).zfill(4) + \".jpg\"\n",
    "        cv.imwrite(path, fish_and_masks[i, :, :, 3])\n",
    "        \n",
    "        img_number +=1\n",
    "    \n",
    "    else:\n",
    "        path = \"./data/fish_\" + str(class_num) + \"/fish_\" + str(img_number).zfill(4) + \".jpg\"\n",
    "        cv.imwrite(path, fish_and_masks[i, :, :, 0:3])\n",
    "        \n",
    "        \n",
    "        path = \"./data/mask_\" + str(class_num) + \"/fish_\" + str(img_number).zfill(4) + \".jpg\"\n",
    "        cv.imwrite(path, fish_and_masks[i, :, :, 3])\n",
    "        \n",
    "        img_number +=1\n",
    "        \n",
    "print(img_number)"
   ]
  },
  {
   "cell_type": "code",
   "execution_count": null,
   "metadata": {},
   "outputs": [],
   "source": []
  }
 ],
 "metadata": {
  "kernelspec": {
   "display_name": "Python 3",
   "language": "python",
   "name": "python3"
  },
  "language_info": {
   "codemirror_mode": {
    "name": "ipython",
    "version": 3
   },
   "file_extension": ".py",
   "mimetype": "text/x-python",
   "name": "python",
   "nbconvert_exporter": "python",
   "pygments_lexer": "ipython3",
   "version": "3.7.7"
  },
  "varInspector": {
   "cols": {
    "lenName": 16,
    "lenType": 16,
    "lenVar": 40
   },
   "kernels_config": {
    "python": {
     "delete_cmd_postfix": "",
     "delete_cmd_prefix": "del ",
     "library": "var_list.py",
     "varRefreshCmd": "print(var_dic_list())"
    },
    "r": {
     "delete_cmd_postfix": ") ",
     "delete_cmd_prefix": "rm(",
     "library": "var_list.r",
     "varRefreshCmd": "cat(var_dic_list()) "
    }
   },
   "position": {
    "height": "229px",
    "left": "1537px",
    "right": "20px",
    "top": "120px",
    "width": "363px"
   },
   "types_to_exclude": [
    "module",
    "function",
    "builtin_function_or_method",
    "instance",
    "_Feature"
   ],
   "window_display": true
  }
 },
 "nbformat": 4,
 "nbformat_minor": 4
}
