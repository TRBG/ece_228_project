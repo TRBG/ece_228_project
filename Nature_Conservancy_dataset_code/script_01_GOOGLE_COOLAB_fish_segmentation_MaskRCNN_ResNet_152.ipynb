{
 "cells": [
  {
   "cell_type": "markdown",
   "metadata": {},
   "source": [
    "# Object Detection (fish) and Mask Creation (through semantic segmentation)\n",
    "\n",
    "In this code we use package from (https://github.com/fizyr/keras-maskrcnn) to implement MaskRCNN segmentation/object detection, whihc is proposed by Kaiming He et al. (https://arxiv.org/pdf/1703.06870.pdf), using RetinaNet as base (using Res-Net-152 as a bckbone net).\n",
    "\n",
    "the purpose of this code is to segment the fish in the images to create a mask. This mask will form the 4th channel to the input array (the 1st 3 channels being the RGB channels of the image) as was suggested in Rathi's et al. (https://ieeexplore.ieee.org/document/8593044), which we implemented in our project and also imrpoved (check the code and the implementation on the Fish4Knowledge dataset).\n",
    "\n",
    "The code starts by clonning the repositries that contain the Mask-Rcnn packages and pre-trained model on the Google Open Image v4. dataset (https://storage.googleapis.com/openimages/web/factsfigures_v4.html). The pretrained model is trained to detect and segment 300 differetn classes. One of these classes is 'Fish', which we used for our project.\n",
    "\n",
    "IMPORTANT: The following comment line: # ------------> indicates a directory has to be changed.\n"
   ]
  },
  {
   "cell_type": "markdown",
   "metadata": {},
   "source": [
    "## Clonning and Installing The Packages"
   ]
  },
  {
   "cell_type": "code",
   "execution_count": null,
   "metadata": {
    "colab": {
     "base_uri": "https://localhost:8080/",
     "height": 145
    },
    "colab_type": "code",
    "id": "jF86yYpDvRtL",
    "outputId": "a35ece5b-c75e-4b15-e2b7-e84dd4b50652"
   },
   "outputs": [],
   "source": [
    "!git clone https://github.com/fizyr/keras-maskrcnn.git"
   ]
  },
  {
   "cell_type": "code",
   "execution_count": null,
   "metadata": {
    "colab": {
     "base_uri": "https://localhost:8080/",
     "height": 145
    },
    "colab_type": "code",
    "id": "qUKGvmQ685RN",
    "outputId": "cf4aa71b-00f1-4cb5-a28d-05305bc0e3f7"
   },
   "outputs": [],
   "source": [
    "!git clone https://github.com/fizyr/keras-retinanet.git"
   ]
  },
  {
   "cell_type": "code",
   "execution_count": null,
   "metadata": {
    "colab": {
     "base_uri": "https://localhost:8080/",
     "height": 528
    },
    "colab_type": "code",
    "id": "ye30enLp9KVm",
    "outputId": "6db06973-d9c9-428f-b4f8-6ce906c36397"
   },
   "outputs": [],
   "source": [
    "%cd /content/keras-retinanet/\n",
    "!pip install ."
   ]
  },
  {
   "cell_type": "code",
   "execution_count": null,
   "metadata": {
    "colab": {
     "base_uri": "https://localhost:8080/",
     "height": 437
    },
    "colab_type": "code",
    "id": "h6l155Dk9SQt",
    "outputId": "a108e77f-1ff4-435f-f731-0a7f3818e634"
   },
   "outputs": [],
   "source": [
    "!python setup.py build_ext --inplace"
   ]
  },
  {
   "cell_type": "code",
   "execution_count": null,
   "metadata": {
    "colab": {
     "base_uri": "https://localhost:8080/",
     "height": 454
    },
    "colab_type": "code",
    "id": "WypFwiYQ4xHX",
    "outputId": "747f089a-38f4-4b36-d7e3-fcf23d35f3e7"
   },
   "outputs": [],
   "source": [
    "%cd /content/keras-maskrcnn/\n",
    "!pip install ."
   ]
  },
  {
   "cell_type": "code",
   "execution_count": null,
   "metadata": {
    "colab": {
     "base_uri": "https://localhost:8080/",
     "height": 35
    },
    "colab_type": "code",
    "id": "3fMG4-jy9n2A",
    "outputId": "edcbcdea-325c-46b6-9a99-d9d394e693a5"
   },
   "outputs": [],
   "source": [
    "!python setup.py build_ext --inplace"
   ]
  },
  {
   "cell_type": "code",
   "execution_count": null,
   "metadata": {
    "colab": {
     "base_uri": "https://localhost:8080/",
     "height": 435
    },
    "colab_type": "code",
    "id": "rC60fjsvwl4R",
    "outputId": "a3080ef1-f6c3-497c-f302-2a4461b4ffcd"
   },
   "outputs": [],
   "source": [
    "%matplotlib inline\n",
    "\n",
    "# reloading modules if they change\n",
    "%load_ext autoreload\n",
    "%autoreload 2\n",
    "\n",
    "# import keras\n",
    "import keras\n",
    "\n",
    "# import keras_retinanet (the base for the Mask-RCNN)\n",
    "from keras_maskrcnn import models\n",
    "from keras_maskrcnn.utils.visualization import draw_mask\n",
    "from keras_retinanet.utils.visualization import draw_box, draw_caption, draw_annotations\n",
    "from keras_retinanet.utils.image import read_image_bgr, preprocess_image, resize_image\n",
    "from keras_retinanet.utils.colors import label_color\n",
    "from keras_retinanet.utils.gpu import setup_gpu\n",
    "\n",
    "# other modules/packages\n",
    "import cv2 as cv\n",
    "import imutils\n",
    "from tqdm import tqdm\n",
    "import matplotlib.pyplot as plt\n",
    "import os\n",
    "import numpy as np\n",
    "import time\n",
    "import glob\n",
    "\n",
    "# set tf backend to allow memory to grow, instead of claiming everything\n",
    "import tensorflow as tf\n",
    "tf.__version__\n",
    "\n",
    "# Setting gpu to 0\n",
    "setup_gpu(0)\n",
    "\n",
    "# Getting the type of the GPU being used (Google Coolab)\n",
    "gpu_info = !nvidia-smi\n",
    "gpu_info = '\\n'.join(gpu_info)\n",
    "if gpu_info.find('failed') >= 0:\n",
    "  print('Select the Runtime > \"Change runtime type\" menu to enable a GPU accelerator, ')\n",
    "  print('and then re-execute this cell.')\n",
    "else:\n",
    "  print(gpu_info)"
   ]
  },
  {
   "cell_type": "code",
   "execution_count": null,
   "metadata": {
    "colab": {
     "base_uri": "https://localhost:8080/",
     "height": 1000
    },
    "colab_type": "code",
    "id": "fcuShK6Rx6rk",
    "outputId": "d981b479-5524-4642-9324-c709c67b433f"
   },
   "outputs": [],
   "source": [
    "# ------------> The directory has to be changed according to the directory where the model is stored.\n",
    "# adjust this to point to your downloaded/trained model\n",
    "model_path = os.path.join('/content/drive/My Drive', 'resnet152_oid_v1.0.1.h5')\n",
    "\n",
    "# load retinanet model\n",
    "model = models.load_model(model_path, backbone_name='resnet152')\n",
    "#print(model.summary())\n",
    "\n",
    "# load label to names mapping for visualization purposes (Label 249 (Fish) is our target)\n",
    "labels_to_names = {77: 'Shark', 249: 'Fish', 91:'Gold Fish', 56: 'Sea Turtle', 198: 'Coin'}"
   ]
  },
  {
   "cell_type": "markdown",
   "metadata": {
    "colab_type": "text",
    "id": "-OS1-1p1voKw"
   },
   "source": [
    "## Running Over to Detect, Segment, and Save Fish Images in npy Files\n",
    "\n"
   ]
  },
  {
   "cell_type": "code",
   "execution_count": null,
   "metadata": {
    "colab": {
     "base_uri": "https://localhost:8080/",
     "height": 74
    },
    "colab_type": "code",
    "id": "g-cQd9K8vvHW",
    "outputId": "75691cea-6f04-43ca-b0a5-d983e7f2bb79"
   },
   "outputs": [],
   "source": [
    "# List the files (jpg files) in the directory that contain the images in the dataset.\n",
    "# store the path to these images in the list: List_of_images\n",
    "\n",
    "# ------------> The directory has to be changed according to the directory where the images dataset folder is stored\n",
    "list_of_images = glob.glob('/content/drive/My Drive/Nature_Conservancy_dataset/*.jpg')\n",
    "print(glob.glob('/content/drive/My Drive/Nature_Conservancy_dataset/*.jpg'))\n",
    "len(list_of_images)"
   ]
  },
  {
   "cell_type": "code",
   "execution_count": null,
   "metadata": {
    "colab": {
     "base_uri": "https://localhost:8080/",
     "height": 1000
    },
    "colab_type": "code",
    "id": "u_opu4Zev3H8",
    "outputId": "bdcd3171-a41c-4859-93a3-04f91d4c05eb"
   },
   "outputs": [],
   "source": [
    "# Creating the npy files where we will store the images together with their masks after we use\n",
    "# Mask-RCNN to segment Fish from the images.\n",
    "\n",
    "# This is the array that will contain the 1306 images \n",
    "fish_mask_and_box = np.zeros((1306,500,500,5), dtype = np.uint8) \n",
    "\n",
    "# This the array that will contain the dimensions of the original images as well as their number (order in the file)\n",
    "sizes_and_indices_fish_segmentation  = np.zeros((1306,3), dtype = int)\n",
    "\n",
    "# This array will contain the class of the fish\n",
    "fish_classes_fish_segmentation  = np.empty((1306,1), dtype = object)\n",
    "\n",
    "# This will contain the confidence at which the network detected a fish\n",
    "confidence_fish_segmentation  = np.zeros((1306,1), dtype = np.float16)\n",
    "\n",
    "flag = 0\n",
    "num_of_fish = 0\n",
    "\n",
    "# iterate over the files to detect and segment the Fish in the dataset images\n",
    "for j in tqdm(range(len(list_of_images))):\n",
    "\n",
    "  sizes_and_indices_fish_segmentation[j,0] = int(list_of_images[j].split('/')[-1].split('_')[0])\n",
    "  fish_classes_fish_segmentation[j,0] = list_of_images[j].split('/')[-1].split('_')[1]\n",
    "\n",
    "  image = read_image_bgr(list_of_images[j])\n",
    "  \n",
    "  # Resizing the images\n",
    "  if image.shape == (4032, 3024, 3):\n",
    "    image = imutils.rotate_bound(image, 90)\n",
    "    print('1')\n",
    "\n",
    "  elif image.shape == (3024, 3024, 3):\n",
    "    image = cv.resize(image, (4032, 3024))\n",
    "\n",
    "  elif image.shape == (3084, 3982, 3):\n",
    "    image = cv.resize(image, (4032, 3024))\n",
    "  \n",
    "  # Storing the images in the npy file (first 3 channels are RGB)\n",
    "  fish_mask_and_box[j,:,:,0:3] = cv.resize(image, (500,500))\n",
    "  # print('Image Size' + str(image.shape))\n",
    "\n",
    "  # copy to draw on\n",
    "  draw = image.copy()\n",
    "  draw = cv.cvtColor(draw, cv.COLOR_BGR2RGB)\n",
    "\n",
    "  # preprocess the image for the Mask-RCNN network\n",
    "  image = preprocess_image(image)\n",
    "  image, scale = resize_image(image)\n",
    "\n",
    "  # The following model is used to detect instances of objects in the image and segment them\n",
    "  start = time.time()\n",
    "  outputs = model.predict_on_batch(np.expand_dims(image, axis=0))\n",
    "  print(\"processing time: \", time.time() - start)\n",
    "  \n",
    "  # The outputs contain bounding boxes of the objects, the confidence (scores), the labels, and the masks (to segment).\n",
    "  boxes  = outputs[-4][0]\n",
    "  scores = outputs[-3][0]\n",
    "  labels = outputs[-2][0]\n",
    "  masks  = outputs[-1][0]\n",
    "\n",
    "  # correct for image scale\n",
    "  boxes /= scale\n",
    "\n",
    "  # Storing the masks and the bounding box as images\n",
    "  if 249 in labels:   # The fish label is No. 249\n",
    "    for box, score, label, mask in zip(boxes, scores, labels, masks):\n",
    "      if label == 249:\n",
    "        color = (255, 255, 255)\n",
    "        \n",
    "        # extracting and storing the bunding box and masks\n",
    "        b = box.astype(int)\n",
    "        draw_box(draw, b, color= color)\n",
    "\n",
    "        box_img = np.zeros((3024, 4032, 1), dtype = np.uint8)\n",
    "        box_img[b[1]: b[3], b[0]: b[2], :] = 255\n",
    "\n",
    "        mask = mask[:, :, label]\n",
    "        draw_mask(draw, b, mask, color= (255, 255, 255))\n",
    "\n",
    "        mask_img = np.zeros((3024, 4032, 3), dtype = np.uint8)\n",
    "        draw_mask(mask_img, b, mask, color= (255, 255, 255))\n",
    "        mask_img[mask_img > 50] = 255\n",
    "        \n",
    "        fish_mask_and_box[j, :, :, 3] = cv.resize(mask_img[:,:,0], (500,500))\n",
    "        fish_mask_and_box[j, :, :, 4] = cv.resize(box_img, (500,500))\n",
    "\n",
    "        confidence_fish_segmentation[j, 0] = score\n",
    "        \n",
    "        caption = \"{} {:.3f}\".format(labels_to_names[label], score)\n",
    "        draw_caption(draw, b, caption)\n",
    "        \n",
    "        # printing the statistics of the fish detected and segmented\n",
    "        print('We found a fish in: ' + str(j))\n",
    "        print('The confidence is: ' + str(score))\n",
    "        num_of_fish +=1\n",
    "        print('Total Fish: ' + str(num_of_fish))\n",
    "        print('Percentage of all Fish: ' + str(np.round(num_of_fish/(j+1), decimals = 3)))\n",
    "\n",
    "        break\n",
    "    \n",
    "# ------------> The directory has to be changed according to the directory where the npy files should be stored\n",
    "np.save('/content/drive/My Drive/fish_mask_and_box.npy', fish_mask_and_box)\n",
    "np.save('/content/drive/My Drive/sizes_and_indices_fish_segmentation.npy', sizes_and_indices_fish_segmentation)\n",
    "np.save('/content/drive/My Drive/fish_classes_fish_segmentation.npy', fish_classes_fish_segmentation)\n",
    "np.save('/content/drive/My Drive/confidence_fish_segmentation.npy', confidence_fish_segmentation)"
   ]
  }
 ],
 "metadata": {
  "accelerator": "GPU",
  "colab": {
   "collapsed_sections": [],
   "name": "segmentation_ResNet50MaskRCNN_v2 (fish_mask).ipynb",
   "provenance": [],
   "toc_visible": true
  },
  "kernelspec": {
   "display_name": "Python 3",
   "language": "python",
   "name": "python3"
  },
  "language_info": {
   "codemirror_mode": {
    "name": "ipython",
    "version": 3
   },
   "file_extension": ".py",
   "mimetype": "text/x-python",
   "name": "python",
   "nbconvert_exporter": "python",
   "pygments_lexer": "ipython3",
   "version": "3.7.7"
  },
  "varInspector": {
   "cols": {
    "lenName": 16,
    "lenType": 16,
    "lenVar": 40
   },
   "kernels_config": {
    "python": {
     "delete_cmd_postfix": "",
     "delete_cmd_prefix": "del ",
     "library": "var_list.py",
     "varRefreshCmd": "print(var_dic_list())"
    },
    "r": {
     "delete_cmd_postfix": ") ",
     "delete_cmd_prefix": "rm(",
     "library": "var_list.r",
     "varRefreshCmd": "cat(var_dic_list()) "
    }
   },
   "types_to_exclude": [
    "module",
    "function",
    "builtin_function_or_method",
    "instance",
    "_Feature"
   ],
   "window_display": false
  }
 },
 "nbformat": 4,
 "nbformat_minor": 1
}
