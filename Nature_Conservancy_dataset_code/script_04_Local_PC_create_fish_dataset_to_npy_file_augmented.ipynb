{
 "cells": [
  {
   "cell_type": "markdown",
   "metadata": {},
   "source": [
    "# Creating The Augmented Dataset (Saving it to NPY Files)\n",
    "This script will create the dataset that will contain all images (original and augmented) and save them to an .npy file. This file is the one that will be used in the script that train the classification model."
   ]
  },
  {
   "cell_type": "code",
   "execution_count": null,
   "metadata": {},
   "outputs": [],
   "source": [
    "# General, System & support\n",
    "from os import listdir\n",
    "from os.path import isfile, join, exists\n",
    "from tqdm import tqdm\n",
    "\n",
    "# Computational\n",
    "import numpy as np\n",
    "import cv2 as cv\n",
    "from matplotlib import pyplot as plt\n",
    "\n",
    "from skimage import filters\n",
    "from skimage import data, exposure, img_as_float"
   ]
  },
  {
   "cell_type": "code",
   "execution_count": null,
   "metadata": {
    "scrolled": false
   },
   "outputs": [],
   "source": [
    "# Creating a list of the directories of the images and masks corresponding to the different species\n",
    "\n",
    "data_path = 'augmented_data/'\n",
    "img_folder_name = 'fish_'\n",
    "msk_folder_name = 'mask_'\n",
    "\n",
    "image_folders = []\n",
    "mask_folders = []\n",
    "\n",
    "for i in tqdm(range(26)):\n",
    "\n",
    "    if i < 9:\n",
    "      img_name = data_path + img_folder_name + '0' + str(i+1)\n",
    "      msk_name = data_path + msk_folder_name + '0' + str(i+1)\n",
    "\n",
    "    else:\n",
    "      img_name = data_path + img_folder_name  + str(i+1)\n",
    "      msk_name = data_path + msk_folder_name + str(i+1)\n",
    "\n",
    "    # print(img_name)\n",
    "    # print(msk_name)\n",
    "    \n",
    "    if exists(img_name):\n",
    "        image_folders.append(img_name)\n",
    "        mask_folders.append(msk_name)\n",
    "    else:\n",
    "        print(img_name)\n",
    "\n",
    "print(image_folders)\n",
    "print(mask_folders)"
   ]
  },
  {
   "cell_type": "code",
   "execution_count": null,
   "metadata": {
    "scrolled": true
   },
   "outputs": [],
   "source": [
    "num = 0\n",
    "# Iterating over the different folders (one for each species) that contain the imges and masks\n",
    "for i in range(len(image_folders)):\n",
    "    \n",
    "    image_file_names = [f for f in listdir(image_folders[i]) if isfile(join(image_folders[i], f))]\n",
    "    mask_file_names = [f for f in listdir(mask_folders[i]) if isfile(join(mask_folders[i], f))]\n",
    "    \n",
    "    for j in tqdm(range(len(image_file_names))):\n",
    "        num+=1\n",
    "\n",
    "num"
   ]
  },
  {
   "cell_type": "code",
   "execution_count": null,
   "metadata": {
    "scrolled": true
   },
   "outputs": [],
   "source": [
    "# Accessing fish images and masks then saving them to an array called data\n",
    "data_aug = np.zeros((num,100,100,4), dtype = np.float16)\n",
    "species_aug = np.zeros((num,1), dtype = int)\n",
    "\n",
    "# error_vector = np.zeros(24971)\n",
    "num = 0\n",
    "# Iterating over the different folders (one for each species) that contain the imges and masks\n",
    "for i in range(len(image_folders)):\n",
    "    \n",
    "    image_file_names = [f for f in listdir(image_folders[i]) if isfile(join(image_folders[i], f))]\n",
    "    mask_file_names = [f for f in listdir(mask_folders[i]) if isfile(join(mask_folders[i], f))]\n",
    "    \n",
    "    for j in tqdm(range(len(image_file_names))):\n",
    "        \n",
    "        img_file_name = image_folders[i] + \"/\" + image_file_names[j]\n",
    "        mask_file_name = mask_folders[i] + \"/\" + mask_file_names[j]\n",
    "\n",
    "        img = cv.imread(img_file_name)\n",
    "        \n",
    "        mask_org = cv.imread(mask_file_name)\n",
    "        mask_org_gray = cv.cvtColor(mask_org, cv.COLOR_BGR2GRAY)\n",
    "\n",
    "        mask_org_gray_resized = cv.resize(mask_org_gray, (100,100)) / 255.0\n",
    "        img_resized = cv.resize(img, (100,100)) / 255.0\n",
    "        \n",
    "        data_aug[num, :, :, 0:3] = img_resized\n",
    "        data_aug[num, :, :, 3] = mask_org_gray_resized\n",
    "        \n",
    "        species_aug[num,0] = i+1\n",
    "        num +=1\n",
    "        if img.any() == None:\n",
    "            print(\"error\")\n",
    "        \n",
    "        if mask_org.any() == None:\n",
    "            print(\"error\")\n",
    "        "
   ]
  },
  {
   "cell_type": "markdown",
   "metadata": {},
   "source": [
    "# Confirming the number of images per class"
   ]
  },
  {
   "cell_type": "code",
   "execution_count": null,
   "metadata": {
    "scrolled": true
   },
   "outputs": [],
   "source": [
    "plt.hist(species_aug, bins='auto')\n",
    "plt.show()"
   ]
  },
  {
   "cell_type": "code",
   "execution_count": null,
   "metadata": {},
   "outputs": [],
   "source": [
    "unique_elements, counts_elements = np.unique(species_aug, return_counts=True)\n",
    "print(\"Frequency of unique values of the species:\")\n",
    "print(np.asarray((unique_elements, counts_elements)))\n",
    "\n",
    "# np.unique(species_aug)"
   ]
  },
  {
   "cell_type": "markdown",
   "metadata": {},
   "source": [
    "# Saving The images to the npy file"
   ]
  },
  {
   "cell_type": "code",
   "execution_count": null,
   "metadata": {},
   "outputs": [],
   "source": [
    "np.save('data_aug_nature.npy', data_aug)\n",
    "np.save('species_aug_nature.npy', species_aug)"
   ]
  },
  {
   "cell_type": "code",
   "execution_count": null,
   "metadata": {},
   "outputs": [],
   "source": []
  }
 ],
 "metadata": {
  "kernelspec": {
   "display_name": "Python 3",
   "language": "python",
   "name": "python3"
  },
  "language_info": {
   "codemirror_mode": {
    "name": "ipython",
    "version": 3
   },
   "file_extension": ".py",
   "mimetype": "text/x-python",
   "name": "python",
   "nbconvert_exporter": "python",
   "pygments_lexer": "ipython3",
   "version": "3.7.7"
  },
  "varInspector": {
   "cols": {
    "lenName": 16,
    "lenType": 16,
    "lenVar": 40
   },
   "kernels_config": {
    "python": {
     "delete_cmd_postfix": "",
     "delete_cmd_prefix": "del ",
     "library": "var_list.py",
     "varRefreshCmd": "print(var_dic_list())"
    },
    "r": {
     "delete_cmd_postfix": ") ",
     "delete_cmd_prefix": "rm(",
     "library": "var_list.r",
     "varRefreshCmd": "cat(var_dic_list()) "
    }
   },
   "oldHeight": 264.218818,
   "position": {
    "height": "286.037px",
    "left": "969.5px",
    "right": "20px",
    "top": "50.9602px",
    "width": "702.5px"
   },
   "types_to_exclude": [
    "module",
    "function",
    "builtin_function_or_method",
    "instance",
    "_Feature"
   ],
   "varInspector_section_display": "block",
   "window_display": false
  }
 },
 "nbformat": 4,
 "nbformat_minor": 4
}
