{
 "cells": [
  {
   "cell_type": "markdown",
   "metadata": {},
   "source": [
    "# Creating The Dataset (& Saving it to NPY Files)"
   ]
  },
  {
   "cell_type": "code",
   "execution_count": null,
   "metadata": {},
   "outputs": [],
   "source": [
    "# General, System & support\n",
    "from os import listdir\n",
    "from os.path import isfile, join\n",
    "from tqdm import tqdm\n",
    "\n",
    "# Computational\n",
    "import numpy as np\n",
    "import cv2 as cv\n",
    "from matplotlib import pyplot as plt\n",
    "\n",
    "from skimage import filters\n",
    "from skimage import data, exposure, img_as_float"
   ]
  },
  {
   "cell_type": "code",
   "execution_count": null,
   "metadata": {},
   "outputs": [],
   "source": [
    "# Printing versions to check for compatibility\n",
    "print(cv.__version__)"
   ]
  },
  {
   "cell_type": "code",
   "execution_count": null,
   "metadata": {
    "scrolled": true
   },
   "outputs": [],
   "source": [
    "# Creating a list of the directories of the images and masks corresponding to the different species\n",
    "# The masks and fish images are stored in subfolders corresponding to the class (numbered from 1 to 23)\n",
    "\n",
    "data_path = 'data/'\n",
    "img_folder_name = 'fish_'\n",
    "msk_folder_name = 'mask_'\n",
    "\n",
    "image_folders = []\n",
    "mask_folders = []\n",
    "\n",
    "for i in tqdm(range(23)):\n",
    "\n",
    "    if i < 9:\n",
    "      img_name = data_path + img_folder_name + '0' + str(i+1)\n",
    "      msk_name = data_path + msk_folder_name + '0' + str(i+1)\n",
    "\n",
    "    else:\n",
    "      img_name = data_path + img_folder_name  + str(i+1)\n",
    "      msk_name = data_path + msk_folder_name + str(i+1)\n",
    "\n",
    "    # print(img_name)\n",
    "    # print(msk_name)\n",
    "    \n",
    "    image_folders.append(img_name)\n",
    "    mask_folders.append(msk_name)\n",
    "\n",
    "print(image_folders)\n",
    "print(mask_folders)"
   ]
  },
  {
   "cell_type": "code",
   "execution_count": null,
   "metadata": {
    "scrolled": false
   },
   "outputs": [],
   "source": [
    "# Accessing fish images and masks then saving them to an array called data while storing the class to the array species\n",
    "# The dataset has 27,370 images\n",
    "data = np.zeros((27370,100,100,4), dtype = np.float16)\n",
    "species = np.zeros((27370,1), dtype = int)\n",
    "\n",
    "num = 0\n",
    "\n",
    "# Iterating over the different folders (one for each species) that contain the imges and masks\n",
    "for i in range(len(image_folders)):\n",
    "    \n",
    "    image_file_names = [f for f in listdir(image_folders[i]) if isfile(join(image_folders[i], f))]\n",
    "    mask_file_names = [f for f in listdir(mask_folders[i]) if isfile(join(mask_folders[i], f))]\n",
    "    \n",
    "    # Iterating and reading the images in the subfolder (then storing it in the array data)\n",
    "    for j in tqdm(range(len(image_file_names))):\n",
    "        \n",
    "        img_file_name = image_folders[i] + \"/\" + image_file_names[j]\n",
    "        mask_file_name = mask_folders[i] + \"/\" + mask_file_names[j]\n",
    "\n",
    "        img = cv.imread(img_file_name)\n",
    "        mask_org = cv.imread(mask_file_name)\n",
    "        \n",
    "        mask_org_gray = cv.cvtColor(mask_org, cv.COLOR_BGR2GRAY)\n",
    "        mask_org_gray_resized = cv.resize(mask_org_gray, (100,100)) / 255.0\n",
    "        \n",
    "        # Resizing the images to the size required by the network (100 x 100)\n",
    "        img_resized = cv.resize(img, (100,100)) / 255.0\n",
    "        \n",
    "        # The network accepts 100 x 100 x 4 arrays\n",
    "        # (the 1st three channels are the image RGB channels and the last channel is the mask)\n",
    "        data[num, :, :, 0:3] = img_resized\n",
    "        data[num, :, :, 3] = mask_org_gray_resized\n",
    "        \n",
    "        species[num,0] = i+1\n",
    "        num +=1\n",
    "                \n",
    "        # Checking if th eimage read is empty as opence does not raise an error\n",
    "        if img.any() == None:\n",
    "            print(\"error\")\n",
    "        \n",
    "        if mask_org.any() == None:\n",
    "            print(\"error\")\n",
    "            \n",
    "print(num)"
   ]
  },
  {
   "cell_type": "code",
   "execution_count": null,
   "metadata": {},
   "outputs": [],
   "source": [
    "# Saving the images to the npy file (we used npy files to make loading/saving the data fast, compact, and effecient)\n",
    "np.save('data.npy', data)\n",
    "np.save('species.npy', species)"
   ]
  }
 ],
 "metadata": {
  "kernelspec": {
   "display_name": "Python 3",
   "language": "python",
   "name": "python3"
  },
  "language_info": {
   "codemirror_mode": {
    "name": "ipython",
    "version": 3
   },
   "file_extension": ".py",
   "mimetype": "text/x-python",
   "name": "python",
   "nbconvert_exporter": "python",
   "pygments_lexer": "ipython3",
   "version": "3.7.7"
  },
  "varInspector": {
   "cols": {
    "lenName": 16,
    "lenType": 16,
    "lenVar": 40
   },
   "kernels_config": {
    "python": {
     "delete_cmd_postfix": "",
     "delete_cmd_prefix": "del ",
     "library": "var_list.py",
     "varRefreshCmd": "print(var_dic_list())"
    },
    "r": {
     "delete_cmd_postfix": ") ",
     "delete_cmd_prefix": "rm(",
     "library": "var_list.r",
     "varRefreshCmd": "cat(var_dic_list()) "
    }
   },
   "oldHeight": 264.218818,
   "position": {
    "height": "286.037px",
    "left": "969.5px",
    "right": "20px",
    "top": "50.9602px",
    "width": "702.5px"
   },
   "types_to_exclude": [
    "module",
    "function",
    "builtin_function_or_method",
    "instance",
    "_Feature"
   ],
   "varInspector_section_display": "block",
   "window_display": false
  }
 },
 "nbformat": 4,
 "nbformat_minor": 4
}
